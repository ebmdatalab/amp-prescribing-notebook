{
 "cells": [
  {
   "cell_type": "markdown",
   "metadata": {},
   "source": [
    "## Brand prescribing of Lithium ##\n",
    "It is recommended that Lithium is prescibed to ensure a person receives the same preparation each time, as lithium comes as different salts which may result in different absoprtion and bioavailability. There has been recent [\"supply disruption alert\"](https://www.cas.mhra.gov.uk/ViewandAcknowledgment/ViewAlert.aspx?AlertID=103087) which has emphasised the importance of ensuring people are maintained on the same brand. In this notebook we will investigate brand prescribing of lithium."
   ]
  },
  {
   "cell_type": "code",
   "execution_count": 1,
   "metadata": {},
   "outputs": [],
   "source": [
    "#import libraries required for analysis\n",
    "import pandas as pd\n",
    "import matplotlib\n",
    "import matplotlib.pyplot as plt\n",
    "from ebmdatalab import bq, charts, maps\n",
    "import os"
   ]
  },
  {
   "cell_type": "markdown",
   "metadata": {},
   "source": [
    "## caution - AMP level prescribing advised\n",
    "Brand name prescribing is supported by assertions in the SDA and the BNF `Preparations vary widely in bioavailability; changing the preparation requires the same precautions as initiation of treatment.`\n",
    "\n",
    "We will use the [NHS dm+d](https://ebmdatalab.net/what-is-the-dmd-the-nhs-dictionary-of-medicines-and-devices/) investigate what Litium products are recommended to be prescribed by brand name in the mandated standard i.e the VMP has a recommendation `caution - AMP level prescribing advised`."
   ]
  },
  {
   "cell_type": "code",
   "execution_count": 2,
   "metadata": {},
   "outputs": [
    {
     "data": {
      "text/html": [
       "<div>\n",
       "<style scoped>\n",
       "    .dataframe tbody tr th:only-of-type {\n",
       "        vertical-align: middle;\n",
       "    }\n",
       "\n",
       "    .dataframe tbody tr th {\n",
       "        vertical-align: top;\n",
       "    }\n",
       "\n",
       "    .dataframe thead th {\n",
       "        text-align: right;\n",
       "    }\n",
       "</style>\n",
       "<table border=\"1\" class=\"dataframe\">\n",
       "  <thead>\n",
       "    <tr style=\"text-align: right;\">\n",
       "      <th></th>\n",
       "      <th>snomed_id</th>\n",
       "      <th>name</th>\n",
       "      <th>bnf_code</th>\n",
       "      <th>pres_stat</th>\n",
       "    </tr>\n",
       "  </thead>\n",
       "  <tbody>\n",
       "    <tr>\n",
       "      <th>0</th>\n",
       "      <td>321729005</td>\n",
       "      <td>Lithium carbonate 200mg modified-release tablets</td>\n",
       "      <td>0402030K0AAAIAI</td>\n",
       "      <td>Caution - AMP level prescribing advised</td>\n",
       "    </tr>\n",
       "    <tr>\n",
       "      <th>1</th>\n",
       "      <td>321730000</td>\n",
       "      <td>Lithium carbonate 250mg tablets</td>\n",
       "      <td>0402030K0AAACAC</td>\n",
       "      <td>Caution - AMP level prescribing advised</td>\n",
       "    </tr>\n",
       "    <tr>\n",
       "      <th>2</th>\n",
       "      <td>321734009</td>\n",
       "      <td>Lithium carbonate 400mg modified-release tablets</td>\n",
       "      <td>0402030K0AAAFAF</td>\n",
       "      <td>Caution - AMP level prescribing advised</td>\n",
       "    </tr>\n",
       "    <tr>\n",
       "      <th>3</th>\n",
       "      <td>321741003</td>\n",
       "      <td>Lithium citrate 509mg/5ml oral solution</td>\n",
       "      <td>0402030P0AAALAL</td>\n",
       "      <td>Valid as a prescribable product</td>\n",
       "    </tr>\n",
       "    <tr>\n",
       "      <th>4</th>\n",
       "      <td>321742005</td>\n",
       "      <td>Lithium citrate 1.018g/5ml oral solution</td>\n",
       "      <td>0402030P0AAAKAK</td>\n",
       "      <td>Valid as a prescribable product</td>\n",
       "    </tr>\n",
       "    <tr>\n",
       "      <th>5</th>\n",
       "      <td>4559411000001104</td>\n",
       "      <td>Lithium citrate 564mg modified-release tablets</td>\n",
       "      <td>0402030P0AAABAB</td>\n",
       "      <td>Invalid to prescribe in NHS primary care</td>\n",
       "    </tr>\n",
       "    <tr>\n",
       "      <th>6</th>\n",
       "      <td>8658611000001103</td>\n",
       "      <td>Lithium carbonate 200mg/5ml oral suspension</td>\n",
       "      <td>0402030K0AAAPAP</td>\n",
       "      <td>Valid as a prescribable product</td>\n",
       "    </tr>\n",
       "    <tr>\n",
       "      <th>7</th>\n",
       "      <td>36040211000001104</td>\n",
       "      <td>Lithium carbonate 450mg modified-release tablets</td>\n",
       "      <td>0402030K0AAAGAG</td>\n",
       "      <td>Caution - AMP level prescribing advised</td>\n",
       "    </tr>\n",
       "    <tr>\n",
       "      <th>8</th>\n",
       "      <td>36040311000001107</td>\n",
       "      <td>Lithium citrate 520mg/5ml oral solution sugar ...</td>\n",
       "      <td>0402030P0AAAIAI</td>\n",
       "      <td>Valid as a prescribable product</td>\n",
       "    </tr>\n",
       "  </tbody>\n",
       "</table>\n",
       "</div>"
      ],
      "text/plain": [
       "           snomed_id                                               name  \\\n",
       "0          321729005   Lithium carbonate 200mg modified-release tablets   \n",
       "1          321730000                    Lithium carbonate 250mg tablets   \n",
       "2          321734009   Lithium carbonate 400mg modified-release tablets   \n",
       "3          321741003            Lithium citrate 509mg/5ml oral solution   \n",
       "4          321742005           Lithium citrate 1.018g/5ml oral solution   \n",
       "5   4559411000001104     Lithium citrate 564mg modified-release tablets   \n",
       "6   8658611000001103        Lithium carbonate 200mg/5ml oral suspension   \n",
       "7  36040211000001104   Lithium carbonate 450mg modified-release tablets   \n",
       "8  36040311000001107  Lithium citrate 520mg/5ml oral solution sugar ...   \n",
       "\n",
       "          bnf_code                                 pres_stat  \n",
       "0  0402030K0AAAIAI   Caution - AMP level prescribing advised  \n",
       "1  0402030K0AAACAC   Caution - AMP level prescribing advised  \n",
       "2  0402030K0AAAFAF   Caution - AMP level prescribing advised  \n",
       "3  0402030P0AAALAL           Valid as a prescribable product  \n",
       "4  0402030P0AAAKAK           Valid as a prescribable product  \n",
       "5  0402030P0AAABAB  Invalid to prescribe in NHS primary care  \n",
       "6  0402030K0AAAPAP           Valid as a prescribable product  \n",
       "7  0402030K0AAAGAG   Caution - AMP level prescribing advised  \n",
       "8  0402030P0AAAIAI           Valid as a prescribable product  "
      ]
     },
     "execution_count": 2,
     "metadata": {},
     "output_type": "execute_result"
    }
   ],
   "source": [
    "sql = '''\n",
    "SELECT \n",
    "id as snomed_id,\n",
    "nm as name,\n",
    "bnf_code,\n",
    "pres_stat\n",
    "FROM \n",
    "ebmdatalab.dmd.vmp_full\n",
    "WHERE\n",
    "bnf_code LIKE '0402030P0%' or \n",
    "bnf_code LIKE '0402030K0%'\n",
    "'''\n",
    "\n",
    "df_dmd_li_recommendations = bq.cached_read(sql, csv_path=os.path.join('..','data','df_dmd_li_recommendations.zip'))\n",
    "pd.set_option('display.max_rows', None)\n",
    "pd.set_option('display.width', None)\n",
    "df_dmd_li_recommendations\n",
    "\n"
   ]
  },
  {
   "cell_type": "markdown",
   "metadata": {},
   "source": [
    "All tablets have a brand name prescribing as expected. Interstingly none of the liquids are recommended by dm+d to be prescribed by brand. The NHS dm+d editorial policy says this about it\n",
    "\n",
    "> However where only one licensed AMP is/has been available and the VMP has an ‘approved’\n",
    "generic name, then that product should not be marked with ‘Caution – AMP level prescribing\n",
    "advise\n",
    "\n",
    "There is no rationale as to why this is the case but from cursory look at our [NHS dm+d browser](https://openprescribing.net/dmd/) this does appear to hold true. If the stated aim is to reduce confusion between salts then I thik liquids should be marked as `‘Caution – AMP level prescribing advise` however this is a point for further discussion with dm+d and debate."
   ]
  },
  {
   "cell_type": "code",
   "execution_count": 3,
   "metadata": {},
   "outputs": [
    {
     "data": {
      "text/html": [
       "<div>\n",
       "<style scoped>\n",
       "    .dataframe tbody tr th:only-of-type {\n",
       "        vertical-align: middle;\n",
       "    }\n",
       "\n",
       "    .dataframe tbody tr th {\n",
       "        vertical-align: top;\n",
       "    }\n",
       "\n",
       "    .dataframe thead th {\n",
       "        text-align: right;\n",
       "    }\n",
       "</style>\n",
       "<table border=\"1\" class=\"dataframe\">\n",
       "  <thead>\n",
       "    <tr style=\"text-align: right;\">\n",
       "      <th></th>\n",
       "      <th>month</th>\n",
       "      <th>pct</th>\n",
       "      <th>bnf_name</th>\n",
       "      <th>bnf_code</th>\n",
       "      <th>total_items</th>\n",
       "    </tr>\n",
       "  </thead>\n",
       "  <tbody>\n",
       "    <tr>\n",
       "      <th>0</th>\n",
       "      <td>2010-08-01</td>\n",
       "      <td>06F</td>\n",
       "      <td>Beclomet Diprop_Inha B/A 50mcg(200 D)CFF</td>\n",
       "      <td>0302000C0AABGBG</td>\n",
       "      <td>1</td>\n",
       "    </tr>\n",
       "    <tr>\n",
       "      <th>1</th>\n",
       "      <td>2010-08-01</td>\n",
       "      <td>03L</td>\n",
       "      <td>Calcicard CR_Tab 90mg</td>\n",
       "      <td>0206020C0BCACAC</td>\n",
       "      <td>2</td>\n",
       "    </tr>\n",
       "    <tr>\n",
       "      <th>2</th>\n",
       "      <td>2010-08-01</td>\n",
       "      <td>03F</td>\n",
       "      <td>Buprenorphine_Patch 70mcg/hr (96hr)</td>\n",
       "      <td>0407020B0AAAGAG</td>\n",
       "      <td>11</td>\n",
       "    </tr>\n",
       "  </tbody>\n",
       "</table>\n",
       "</div>"
      ],
      "text/plain": [
       "       month  pct                                  bnf_name         bnf_code  \\\n",
       "0 2010-08-01  06F  Beclomet Diprop_Inha B/A 50mcg(200 D)CFF  0302000C0AABGBG   \n",
       "1 2010-08-01  03L                     Calcicard CR_Tab 90mg  0206020C0BCACAC   \n",
       "2 2010-08-01  03F       Buprenorphine_Patch 70mcg/hr (96hr)  0407020B0AAAGAG   \n",
       "\n",
       "   total_items  \n",
       "0            1  \n",
       "1            2  \n",
       "2           11  "
      ]
     },
     "execution_count": 3,
     "metadata": {},
     "output_type": "execute_result"
    }
   ],
   "source": [
    "df_amp_recommended = pd.read_csv(os.path.join('..','data','df_amp_recommended.zip'))\n",
    "df_amp_recommended['month'] = df_amp_recommended['month'].astype('datetime64[ns]')\n",
    "df_amp_recommended.head(3)"
   ]
  },
  {
   "cell_type": "code",
   "execution_count": 4,
   "metadata": {},
   "outputs": [
    {
     "data": {
      "text/html": [
       "<div>\n",
       "<style scoped>\n",
       "    .dataframe tbody tr th:only-of-type {\n",
       "        vertical-align: middle;\n",
       "    }\n",
       "\n",
       "    .dataframe tbody tr th {\n",
       "        vertical-align: top;\n",
       "    }\n",
       "\n",
       "    .dataframe thead th {\n",
       "        text-align: right;\n",
       "    }\n",
       "</style>\n",
       "<table border=\"1\" class=\"dataframe\">\n",
       "  <thead>\n",
       "    <tr style=\"text-align: right;\">\n",
       "      <th></th>\n",
       "      <th>month</th>\n",
       "      <th>pct</th>\n",
       "      <th>bnf_name</th>\n",
       "      <th>bnf_code</th>\n",
       "      <th>total_items</th>\n",
       "    </tr>\n",
       "  </thead>\n",
       "  <tbody>\n",
       "    <tr>\n",
       "      <th>32</th>\n",
       "      <td>2010-08-01</td>\n",
       "      <td>05R</td>\n",
       "      <td>Priadel_Tab 200mg</td>\n",
       "      <td>0402030K0BFABAI</td>\n",
       "      <td>87</td>\n",
       "    </tr>\n",
       "    <tr>\n",
       "      <th>91</th>\n",
       "      <td>2010-08-01</td>\n",
       "      <td>01X</td>\n",
       "      <td>Lithium Carb_Tab Slow 400mg</td>\n",
       "      <td>0402030K0AAAFAF</td>\n",
       "      <td>12</td>\n",
       "    </tr>\n",
       "    <tr>\n",
       "      <th>123</th>\n",
       "      <td>2010-08-01</td>\n",
       "      <td>08N</td>\n",
       "      <td>Priadel_Tab 200mg</td>\n",
       "      <td>0402030K0BFABAI</td>\n",
       "      <td>28</td>\n",
       "    </tr>\n",
       "    <tr>\n",
       "      <th>135</th>\n",
       "      <td>2010-08-01</td>\n",
       "      <td>15N</td>\n",
       "      <td>Lithium Carb_Tab Slow 450mg</td>\n",
       "      <td>0402030K0AAAGAG</td>\n",
       "      <td>6</td>\n",
       "    </tr>\n",
       "    <tr>\n",
       "      <th>162</th>\n",
       "      <td>2010-08-01</td>\n",
       "      <td>03W</td>\n",
       "      <td>Priadel_Tab 200mg</td>\n",
       "      <td>0402030K0BFABAI</td>\n",
       "      <td>76</td>\n",
       "    </tr>\n",
       "  </tbody>\n",
       "</table>\n",
       "</div>"
      ],
      "text/plain": [
       "         month  pct                     bnf_name         bnf_code  total_items\n",
       "32  2010-08-01  05R            Priadel_Tab 200mg  0402030K0BFABAI           87\n",
       "91  2010-08-01  01X  Lithium Carb_Tab Slow 400mg  0402030K0AAAFAF           12\n",
       "123 2010-08-01  08N            Priadel_Tab 200mg  0402030K0BFABAI           28\n",
       "135 2010-08-01  15N  Lithium Carb_Tab Slow 450mg  0402030K0AAAGAG            6\n",
       "162 2010-08-01  03W            Priadel_Tab 200mg  0402030K0BFABAI           76"
      ]
     },
     "execution_count": 4,
     "metadata": {},
     "output_type": "execute_result"
    }
   ],
   "source": [
    "df_lithium = df_amp_recommended.loc[df_amp_recommended[\"bnf_code\"].str.startswith(('0402030P0','0402030K0'))]\n",
    "df_lithium.head(5)"
   ]
  },
  {
   "cell_type": "code",
   "execution_count": 5,
   "metadata": {},
   "outputs": [
    {
     "data": {
      "text/plain": [
       "array(['Priadel_Tab 200mg', 'Lithium Carb_Tab Slow 400mg',\n",
       "       'Lithium Carb_Tab Slow 450mg', 'Lithium Carb_Tab Slow 200mg',\n",
       "       'Camcolit 250_Tab 250mg', 'Liskonum_Tab 450mg',\n",
       "       'Priadel_Tab 400mg', 'Lithium Carb_Tab 250mg',\n",
       "       'Camcolit 400_Tab 400mg', 'Lithonate_Tab 400mg',\n",
       "       'Lithium Carb_Tab 200mg M/R', 'Lithium Carb_Tab 400mg M/R',\n",
       "       'Lithium Carb_Tab 450mg M/R', 'Liskonum_Tab 450mg M/R'],\n",
       "      dtype=object)"
      ]
     },
     "execution_count": 5,
     "metadata": {},
     "output_type": "execute_result"
    }
   ],
   "source": [
    "df_lithium.bnf_name.unique()"
   ]
  },
  {
   "cell_type": "code",
   "execution_count": 6,
   "metadata": {},
   "outputs": [
    {
     "data": {
      "text/plain": [
       "array(['Lithium Carb_Tab Slow 400mg', 'Lithium Carb_Tab Slow 450mg',\n",
       "       'Lithium Carb_Tab Slow 200mg', 'Lithium Carb_Tab 250mg',\n",
       "       'Lithium Carb_Tab 200mg M/R', 'Lithium Carb_Tab 400mg M/R',\n",
       "       'Lithium Carb_Tab 450mg M/R'], dtype=object)"
      ]
     },
     "execution_count": 6,
     "metadata": {},
     "output_type": "execute_result"
    }
   ],
   "source": [
    "df_lithium_generic = df_lithium.loc[df_lithium[\"bnf_code\"].str.contains('AA\\w{4}$')]\n",
    "df_lithium_generic.bnf_name.unique()"
   ]
  },
  {
   "cell_type": "code",
   "execution_count": 7,
   "metadata": {},
   "outputs": [
    {
     "data": {
      "text/plain": [
       "(0, 24980.0)"
      ]
     },
     "execution_count": 7,
     "metadata": {},
     "output_type": "execute_result"
    },
    {
     "data": {
      "image/png": "[encoded data removed]",
      "text/plain": [
       "<Figure size 432x288 with 1 Axes>"
      ]
     },
     "metadata": {
      "needs_background": "light"
     },
     "output_type": "display_data"
    }
   ],
   "source": [
    "df_lithium_generic.groupby(\"month\")['total_items'].sum().plot(kind='line', title=\"Total items where Lithium prescribed generically \\n in breach of guidance\")\n",
    "plt.ylim(0, )"
   ]
  },
  {
   "cell_type": "markdown",
   "metadata": {},
   "source": [
    "There is quite a reduction in generic prescribing in mid-2012. WE could investigate this further to see if it sheds any light on effective implementation. MOst likely there are product changes, EHR change or substantial work by a meds opt teams."
   ]
  },
  {
   "cell_type": "code",
   "execution_count": 8,
   "metadata": {},
   "outputs": [
    {
     "data": {
      "text/html": [
       "<div>\n",
       "<style scoped>\n",
       "    .dataframe tbody tr th:only-of-type {\n",
       "        vertical-align: middle;\n",
       "    }\n",
       "\n",
       "    .dataframe tbody tr th {\n",
       "        vertical-align: top;\n",
       "    }\n",
       "\n",
       "    .dataframe thead th {\n",
       "        text-align: right;\n",
       "    }\n",
       "</style>\n",
       "<table border=\"1\" class=\"dataframe\">\n",
       "  <thead>\n",
       "    <tr style=\"text-align: right;\">\n",
       "      <th></th>\n",
       "      <th>bnf_code</th>\n",
       "      <th>bnf_name</th>\n",
       "      <th>total_items</th>\n",
       "    </tr>\n",
       "  </thead>\n",
       "  <tbody>\n",
       "    <tr>\n",
       "      <th>2</th>\n",
       "      <td>0402030K0AAAFAF</td>\n",
       "      <td>Lithium Carb_Tab Slow 400mg</td>\n",
       "      <td>485898</td>\n",
       "    </tr>\n",
       "    <tr>\n",
       "      <th>6</th>\n",
       "      <td>0402030K0AAAIAI</td>\n",
       "      <td>Lithium Carb_Tab Slow 200mg</td>\n",
       "      <td>333701</td>\n",
       "    </tr>\n",
       "    <tr>\n",
       "      <th>1</th>\n",
       "      <td>0402030K0AAAFAF</td>\n",
       "      <td>Lithium Carb_Tab 400mg M/R</td>\n",
       "      <td>309633</td>\n",
       "    </tr>\n",
       "    <tr>\n",
       "      <th>5</th>\n",
       "      <td>0402030K0AAAIAI</td>\n",
       "      <td>Lithium Carb_Tab 200mg M/R</td>\n",
       "      <td>216771</td>\n",
       "    </tr>\n",
       "    <tr>\n",
       "      <th>0</th>\n",
       "      <td>0402030K0AAACAC</td>\n",
       "      <td>Lithium Carb_Tab 250mg</td>\n",
       "      <td>91465</td>\n",
       "    </tr>\n",
       "    <tr>\n",
       "      <th>4</th>\n",
       "      <td>0402030K0AAAGAG</td>\n",
       "      <td>Lithium Carb_Tab Slow 450mg</td>\n",
       "      <td>12445</td>\n",
       "    </tr>\n",
       "    <tr>\n",
       "      <th>3</th>\n",
       "      <td>0402030K0AAAGAG</td>\n",
       "      <td>Lithium Carb_Tab 450mg M/R</td>\n",
       "      <td>8231</td>\n",
       "    </tr>\n",
       "  </tbody>\n",
       "</table>\n",
       "</div>"
      ],
      "text/plain": [
       "          bnf_code                     bnf_name  total_items\n",
       "2  0402030K0AAAFAF  Lithium Carb_Tab Slow 400mg       485898\n",
       "6  0402030K0AAAIAI  Lithium Carb_Tab Slow 200mg       333701\n",
       "1  0402030K0AAAFAF   Lithium Carb_Tab 400mg M/R       309633\n",
       "5  0402030K0AAAIAI   Lithium Carb_Tab 200mg M/R       216771\n",
       "0  0402030K0AAACAC       Lithium Carb_Tab 250mg        91465\n",
       "4  0402030K0AAAGAG  Lithium Carb_Tab Slow 450mg        12445\n",
       "3  0402030K0AAAGAG   Lithium Carb_Tab 450mg M/R         8231"
      ]
     },
     "execution_count": 8,
     "metadata": {},
     "output_type": "execute_result"
    }
   ],
   "source": [
    "df_lithium_generic.groupby(['bnf_code', 'bnf_name']).sum().reset_index().sort_values(by = 'total_items', ascending = False).head(25)"
   ]
  },
  {
   "cell_type": "code",
   "execution_count": 9,
   "metadata": {},
   "outputs": [
    {
     "data": {
      "text/html": [
       "<div>\n",
       "<style scoped>\n",
       "    .dataframe tbody tr th:only-of-type {\n",
       "        vertical-align: middle;\n",
       "    }\n",
       "\n",
       "    .dataframe tbody tr th {\n",
       "        vertical-align: top;\n",
       "    }\n",
       "\n",
       "    .dataframe thead th {\n",
       "        text-align: right;\n",
       "    }\n",
       "</style>\n",
       "<table border=\"1\" class=\"dataframe\">\n",
       "  <thead>\n",
       "    <tr style=\"text-align: right;\">\n",
       "      <th></th>\n",
       "      <th>month</th>\n",
       "      <th>pct</th>\n",
       "      <th>total_items</th>\n",
       "    </tr>\n",
       "  </thead>\n",
       "  <tbody>\n",
       "    <tr>\n",
       "      <th>0</th>\n",
       "      <td>2010-08-01</td>\n",
       "      <td>00L</td>\n",
       "      <td>67</td>\n",
       "    </tr>\n",
       "    <tr>\n",
       "      <th>1</th>\n",
       "      <td>2010-08-01</td>\n",
       "      <td>00N</td>\n",
       "      <td>21</td>\n",
       "    </tr>\n",
       "    <tr>\n",
       "      <th>2</th>\n",
       "      <td>2010-08-01</td>\n",
       "      <td>00P</td>\n",
       "      <td>249</td>\n",
       "    </tr>\n",
       "    <tr>\n",
       "      <th>3</th>\n",
       "      <td>2010-08-01</td>\n",
       "      <td>00Q</td>\n",
       "      <td>47</td>\n",
       "    </tr>\n",
       "    <tr>\n",
       "      <th>4</th>\n",
       "      <td>2010-08-01</td>\n",
       "      <td>00R</td>\n",
       "      <td>95</td>\n",
       "    </tr>\n",
       "  </tbody>\n",
       "</table>\n",
       "</div>"
      ],
      "text/plain": [
       "       month  pct  total_items\n",
       "0 2010-08-01  00L           67\n",
       "1 2010-08-01  00N           21\n",
       "2 2010-08-01  00P          249\n",
       "3 2010-08-01  00Q           47\n",
       "4 2010-08-01  00R           95"
      ]
     },
     "execution_count": 9,
     "metadata": {},
     "output_type": "execute_result"
    }
   ],
   "source": [
    "df_lithium_generic_ccg = df_lithium_generic.groupby(['month', 'pct']).sum().reset_index()\n",
    "df_lithium_generic_ccg.head()"
   ]
  },
  {
   "cell_type": "code",
   "execution_count": 10,
   "metadata": {
    "lines_to_next_cell": 2
   },
   "outputs": [
    {
     "data": {
      "text/html": [
       "<div>\n",
       "<style scoped>\n",
       "    .dataframe tbody tr th:only-of-type {\n",
       "        vertical-align: middle;\n",
       "    }\n",
       "\n",
       "    .dataframe tbody tr th {\n",
       "        vertical-align: top;\n",
       "    }\n",
       "\n",
       "    .dataframe thead th {\n",
       "        text-align: right;\n",
       "    }\n",
       "</style>\n",
       "<table border=\"1\" class=\"dataframe\">\n",
       "  <thead>\n",
       "    <tr style=\"text-align: right;\">\n",
       "      <th></th>\n",
       "      <th>month</th>\n",
       "      <th>pct</th>\n",
       "      <th>total_items</th>\n",
       "    </tr>\n",
       "  </thead>\n",
       "  <tbody>\n",
       "    <tr>\n",
       "      <th>0</th>\n",
       "      <td>2010-08-01</td>\n",
       "      <td>00L</td>\n",
       "      <td>588</td>\n",
       "    </tr>\n",
       "    <tr>\n",
       "      <th>1</th>\n",
       "      <td>2010-08-01</td>\n",
       "      <td>00N</td>\n",
       "      <td>234</td>\n",
       "    </tr>\n",
       "  </tbody>\n",
       "</table>\n",
       "</div>"
      ],
      "text/plain": [
       "       month  pct  total_items\n",
       "0 2010-08-01  00L          588\n",
       "1 2010-08-01  00N          234"
      ]
     },
     "execution_count": 10,
     "metadata": {},
     "output_type": "execute_result"
    }
   ],
   "source": [
    "df_lithium_ccg = df_lithium.groupby(['month', 'pct']).sum().reset_index()\n",
    "df_lithium_ccg.head(2)"
   ]
  },
  {
   "cell_type": "code",
   "execution_count": 11,
   "metadata": {},
   "outputs": [
    {
     "data": {
      "text/html": [
       "<div>\n",
       "<style scoped>\n",
       "    .dataframe tbody tr th:only-of-type {\n",
       "        vertical-align: middle;\n",
       "    }\n",
       "\n",
       "    .dataframe tbody tr th {\n",
       "        vertical-align: top;\n",
       "    }\n",
       "\n",
       "    .dataframe thead th {\n",
       "        text-align: right;\n",
       "    }\n",
       "</style>\n",
       "<table border=\"1\" class=\"dataframe\">\n",
       "  <thead>\n",
       "    <tr style=\"text-align: right;\">\n",
       "      <th></th>\n",
       "      <th>month</th>\n",
       "      <th>pct</th>\n",
       "      <th>total_items_generic_lithium</th>\n",
       "      <th>total_items_all_lithum_rx</th>\n",
       "      <th>measure_value</th>\n",
       "    </tr>\n",
       "  </thead>\n",
       "  <tbody>\n",
       "    <tr>\n",
       "      <th>0</th>\n",
       "      <td>2010-08-01</td>\n",
       "      <td>00L</td>\n",
       "      <td>67</td>\n",
       "      <td>588</td>\n",
       "      <td>11.394558</td>\n",
       "    </tr>\n",
       "    <tr>\n",
       "      <th>1</th>\n",
       "      <td>2010-08-01</td>\n",
       "      <td>00N</td>\n",
       "      <td>21</td>\n",
       "      <td>234</td>\n",
       "      <td>8.974359</td>\n",
       "    </tr>\n",
       "    <tr>\n",
       "      <th>2</th>\n",
       "      <td>2010-08-01</td>\n",
       "      <td>00P</td>\n",
       "      <td>249</td>\n",
       "      <td>478</td>\n",
       "      <td>52.092050</td>\n",
       "    </tr>\n",
       "    <tr>\n",
       "      <th>3</th>\n",
       "      <td>2010-08-01</td>\n",
       "      <td>00Q</td>\n",
       "      <td>47</td>\n",
       "      <td>210</td>\n",
       "      <td>22.380952</td>\n",
       "    </tr>\n",
       "    <tr>\n",
       "      <th>4</th>\n",
       "      <td>2010-08-01</td>\n",
       "      <td>00R</td>\n",
       "      <td>95</td>\n",
       "      <td>267</td>\n",
       "      <td>35.580524</td>\n",
       "    </tr>\n",
       "  </tbody>\n",
       "</table>\n",
       "</div>"
      ],
      "text/plain": [
       "       month  pct  total_items_generic_lithium  total_items_all_lithum_rx  \\\n",
       "0 2010-08-01  00L                           67                        588   \n",
       "1 2010-08-01  00N                           21                        234   \n",
       "2 2010-08-01  00P                          249                        478   \n",
       "3 2010-08-01  00Q                           47                        210   \n",
       "4 2010-08-01  00R                           95                        267   \n",
       "\n",
       "   measure_value  \n",
       "0      11.394558  \n",
       "1       8.974359  \n",
       "2      52.092050  \n",
       "3      22.380952  \n",
       "4      35.580524  "
      ]
     },
     "execution_count": 11,
     "metadata": {},
     "output_type": "execute_result"
    }
   ],
   "source": [
    "df_li_measure = pd.merge(df_lithium_generic_ccg, df_lithium_ccg,  how='left', left_on=['month','pct'], right_on = ['month','pct'], suffixes=(\"_generic_lithium\", \"_all_lithum_rx\"))\n",
    "df_li_measure[\"measure_value\"] =  100*(df_li_measure.total_items_generic_lithium / df_li_measure.total_items_all_lithum_rx)\n",
    "df_li_measure.head()"
   ]
  },
  {
   "cell_type": "code",
   "execution_count": 12,
   "metadata": {
    "lines_to_next_cell": 0
   },
   "outputs": [
    {
     "data": {
      "image/png": "[encoded data removed]",
      "text/plain": [
       "<Figure size 432x288 with 1 Axes>"
      ]
     },
     "metadata": {},
     "output_type": "display_data"
    }
   ],
   "source": [
    "charts.deciles_chart(\n",
    "    df_li_measure,\n",
    "    period_column='month',\n",
    "    column='measure_value',\n",
    "    title=\" CCG variation - Generic lithum prescriptions \\n in breach of dm+d brand prescribing recommendations\",\n",
    "    ylabel=\" % \",\n",
    "    show_outer_percentiles=False,\n",
    "    show_legend=True\n",
    ") \n",
    "\n",
    "#add in example CCG (Devon)\n",
    "df_subject = df_li_measure.loc[df_li_measure['pct'] == '15N']\n",
    "plt.plot(df_subject['month'], df_subject['measure_value'], 'r--')\n",
    "\n",
    "plt.ylim(0, 100)\n",
    "plt.show()"
   ]
  },
  {
   "cell_type": "code",
   "execution_count": null,
   "metadata": {},
   "outputs": [],
   "source": []
  }
 ],
 "metadata": {
  "jupytext": {
   "cell_metadata_filter": "all",
   "notebook_metadata_filter": "all,-language_info",
   "text_representation": {
    "extension": ".py",
    "format_name": "light",
    "format_version": "1.5",
    "jupytext_version": "1.3.3"
   }
  },
  "kernelspec": {
   "display_name": "Python 3",
   "language": "python",
   "name": "python3"
  },
  "language_info": {
   "codemirror_mode": {
    "name": "ipython",
    "version": 3
   },
   "file_extension": ".py",
   "mimetype": "text/x-python",
   "name": "python",
   "nbconvert_exporter": "python",
   "pygments_lexer": "ipython3",
   "version": "3.8.1"
  }
 },
 "nbformat": 4,
 "nbformat_minor": 4
}
