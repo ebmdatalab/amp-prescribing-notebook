{
 "cells": [
  {
   "cell_type": "code",
   "execution_count": null,
   "metadata": {},
   "outputs": [],
   "source": []
  },
  {
   "cell_type": "code",
   "execution_count": 1,
   "metadata": {},
   "outputs": [],
   "source": [
    "#import libraries required for analysis\n",
    "import pandas as pd\n",
    "import matplotlib\n",
    "import matplotlib.pyplot as plt\n",
    "from ebmdatalab import bq, charts, maps\n",
    "import os"
   ]
  },
  {
   "cell_type": "code",
   "execution_count": 2,
   "metadata": {},
   "outputs": [
    {
     "name": "stdout",
     "output_type": "stream",
     "text": [
      "Please visit this URL to authorize this application: https://accounts.google.com/o/oauth2/auth?response_type=code&client_id=725825577420-unm2gnkiprugilg743tkbig250f4sfsj.apps.googleusercontent.com&redirect_uri=urn%3Aietf%3Awg%3Aoauth%3A2.0%3Aoob&scope=https%3A%2F%2Fwww.googleapis.com%2Fauth%2Fbigquery&state=7z5URpEBZyeBMbl4ztDRdE9hUK1x1J&prompt=consent&access_type=offline\n"
     ]
    },
    {
     "name": "stdin",
     "output_type": "stream",
     "text": [
      "Enter the authorization code:  4/4AEgy0VXeoFgCDOle_FIUe4-_WxOZepFipOYkk36lef_fVmFcmXlSGA\n"
     ]
    },
    {
     "name": "stderr",
     "output_type": "stream",
     "text": [
      "Downloading: 100%|██████████| 5078707/5078707 [04:37<00:00, 18331.70rows/s]\n"
     ]
    },
    {
     "data": {
      "text/html": [
       "<div>\n",
       "<style scoped>\n",
       "    .dataframe tbody tr th:only-of-type {\n",
       "        vertical-align: middle;\n",
       "    }\n",
       "\n",
       "    .dataframe tbody tr th {\n",
       "        vertical-align: top;\n",
       "    }\n",
       "\n",
       "    .dataframe thead th {\n",
       "        text-align: right;\n",
       "    }\n",
       "</style>\n",
       "<table border=\"1\" class=\"dataframe\">\n",
       "  <thead>\n",
       "    <tr style=\"text-align: right;\">\n",
       "      <th></th>\n",
       "      <th>month</th>\n",
       "      <th>pct</th>\n",
       "      <th>bnf_name</th>\n",
       "      <th>bnf_code</th>\n",
       "      <th>total_items</th>\n",
       "    </tr>\n",
       "  </thead>\n",
       "  <tbody>\n",
       "    <tr>\n",
       "      <th>0</th>\n",
       "      <td>2010-08-01</td>\n",
       "      <td>06F</td>\n",
       "      <td>Beclomet Diprop_Inha B/A 50mcg(200 D)CFF</td>\n",
       "      <td>0302000C0AABGBG</td>\n",
       "      <td>1</td>\n",
       "    </tr>\n",
       "    <tr>\n",
       "      <th>1</th>\n",
       "      <td>2010-08-01</td>\n",
       "      <td>03L</td>\n",
       "      <td>Calcicard CR_Tab 90mg</td>\n",
       "      <td>0206020C0BCACAC</td>\n",
       "      <td>2</td>\n",
       "    </tr>\n",
       "    <tr>\n",
       "      <th>2</th>\n",
       "      <td>2010-08-01</td>\n",
       "      <td>03F</td>\n",
       "      <td>Buprenorphine_Patch 70mcg/hr (96hr)</td>\n",
       "      <td>0407020B0AAAGAG</td>\n",
       "      <td>11</td>\n",
       "    </tr>\n",
       "  </tbody>\n",
       "</table>\n",
       "</div>"
      ],
      "text/plain": [
       "       month  pct                                  bnf_name         bnf_code  \\\n",
       "0 2010-08-01  06F  Beclomet Diprop_Inha B/A 50mcg(200 D)CFF  0302000C0AABGBG   \n",
       "1 2010-08-01  03L                     Calcicard CR_Tab 90mg  0206020C0BCACAC   \n",
       "2 2010-08-01  03F       Buprenorphine_Patch 70mcg/hr (96hr)  0407020B0AAAGAG   \n",
       "\n",
       "   total_items  \n",
       "0            1  \n",
       "1            2  \n",
       "2           11  "
      ]
     },
     "execution_count": 2,
     "metadata": {},
     "output_type": "execute_result"
    }
   ],
   "source": [
    "sql = '''\n",
    "SELECT\n",
    "  month,\n",
    "  pct,\n",
    "  bnf_name,\n",
    "  bnf_code,\n",
    "  SUM(items) AS total_items\n",
    "FROM\n",
    "hscic.normalised_prescribing_standard AS rx\n",
    "INNER JOIN\n",
    "hscic.practices AS prac\n",
    "ON\n",
    "rx.practice = prac.code \n",
    "JOIN\n",
    "  hscic.ccgs AS ccgs\n",
    "ON\n",
    "rx.pct=ccgs.code\n",
    "WHERE\n",
    "  prac.setting = 4 \n",
    "  AND  \n",
    "  ccgs.org_type='CCG'\n",
    "  AND\n",
    "  bnf_code IN (\n",
    "  SELECT\n",
    "    DISTINCT(bnf_code)\n",
    "  FROM\n",
    "    ebmdatalab.brian.amp_recommended\n",
    "     )\n",
    "GROUP BY\n",
    "rx.month,\n",
    "rx.pct,\n",
    "rx.bnf_code,\n",
    "rx.bnf_name\n",
    "ORDER BY\n",
    "month\n",
    "'''\n",
    "\n",
    "df_amp_recommended = bq.cached_read(sql, csv_path=os.path.join('..','data','df_amp_recommended.zip'))\n",
    "#df_amp_recommended = bq.cached_read(sql, csv_path=os.path.join('..','data','df_amp_recommended.csv'))\n",
    "df_amp_recommended['month'] = df_amp_recommended['month'].astype('datetime64[ns]')\n",
    "df_amp_recommended.head(3)"
   ]
  },
  {
   "cell_type": "code",
   "execution_count": null,
   "metadata": {},
   "outputs": [],
   "source": []
  }
 ],
 "metadata": {
  "jupytext": {
   "cell_metadata_filter": "all",
   "notebook_metadata_filter": "all,-language_info",
   "text_representation": {
    "extension": ".py",
    "format_name": "light",
    "format_version": "1.5",
    "jupytext_version": "1.3.3"
   }
  },
  "kernelspec": {
   "display_name": "Python 3",
   "language": "python",
   "name": "python3"
  },
  "language_info": {
   "codemirror_mode": {
    "name": "ipython",
    "version": 3
   },
   "file_extension": ".py",
   "mimetype": "text/x-python",
   "name": "python",
   "nbconvert_exporter": "python",
   "pygments_lexer": "ipython3",
   "version": "3.8.1"
  }
 },
 "nbformat": 4,
 "nbformat_minor": 4
}
