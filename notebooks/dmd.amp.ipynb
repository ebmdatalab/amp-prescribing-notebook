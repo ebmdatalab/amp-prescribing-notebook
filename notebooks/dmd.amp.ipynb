{
 "cells": [
  {
   "cell_type": "markdown",
   "metadata": {},
   "source": [
    "## AMP prescribing as recommended by the [NHS Dictionary of medicines and devices](https://ebmdatalab.net/what-is-the-dmd-the-nhs-dictionary-of-medicines-and-devices/)\n",
    "\n",
    "**THIS IS A WORK IN PROGRESS**\n",
    "\n",
    "The UK has over the last few decades encouraged generic prescribing for reasons of cost containment and safety. However there are important exceptions where generic prescribing is not ideal e.g. narrow therapeutic index where even slight variations between brands could cause adverse clinical responses. On OpenPrescribing we have some measures of generic prescribing where brand prescribing is recommended \n",
    "\n",
    "- [ciclosporin and tacrolimus](https://openprescribing.net/measure/ciclosporin/)\n",
    "- [diltiazem >60mg](https://openprescribing.net/measure/diltiazem/)\n",
    "\n",
    "We have found that [12.3% of prescriptions for diltiazem, tacrolimus and ciclosporin breach prescribing guidance](https://openprescribing.net/measure/diltiazem/) on brand prescribing in a paper accted in JMIR. \n",
    "\n",
    "Various organisations make recommendations about brand prescribing in the NHS including the [NHS dictionary of medicines and devices (dm+d)](https://ebmdatalab.net/what-is-the-dmd-the-nhs-dictionary-of-medicines-and-devices/) which is the mandated drug dictionary for electronic systems in the NHS. In the field `prescribing status` the dm+d can assign a value `caution - AMP level prescribing advised` which means you should prescribe by brand. This is assigned to 229 VMPs.\n",
    "\n",
    "In this notebook we will set out to investigate brand prescribing across all products."
   ]
  },
  {
   "cell_type": "code",
   "execution_count": 1,
   "metadata": {},
   "outputs": [],
   "source": [
    "#import libraries required for analysis\n",
    "import pandas as pd\n",
    "import matplotlib\n",
    "import matplotlib.pyplot as plt\n",
    "from ebmdatalab import bq, charts, maps\n",
    "import os"
   ]
  },
  {
   "cell_type": "code",
   "execution_count": null,
   "metadata": {},
   "outputs": [
    {
     "name": "stderr",
     "output_type": "stream",
     "text": [
      "Downloading: 100%|██████████| 5078707/5078707 [06:38<00:00, 12747.15rows/s]\n"
     ]
    }
   ],
   "source": [
    "sql = '''\n",
    "SELECT\n",
    "  month,\n",
    "  pct,\n",
    "  bnf_name,\n",
    "  bnf_code,\n",
    "  SUM(items) AS total_items\n",
    "FROM\n",
    "hscic.normalised_prescribing_standard AS rx\n",
    "INNER JOIN\n",
    "hscic.practices AS prac\n",
    "ON\n",
    "rx.practice = prac.code \n",
    "JOIN\n",
    "  hscic.ccgs AS ccgs\n",
    "ON\n",
    "rx.pct=ccgs.code\n",
    "WHERE\n",
    "  prac.setting = 4 \n",
    "  AND  \n",
    "  ccgs.org_type='CCG'\n",
    "  AND\n",
    "  bnf_code IN (\n",
    "  SELECT\n",
    "    DISTINCT(bnf_code)\n",
    "  FROM\n",
    "    ebmdatalab.brian.amp_recommended\n",
    "     )\n",
    "GROUP BY\n",
    "rx.month,\n",
    "rx.pct,\n",
    "rx.bnf_code,\n",
    "rx.bnf_name\n",
    "ORDER BY\n",
    "month\n",
    "'''\n",
    "\n",
    "df_amp_recommended = bq.cached_read(sql, csv_path=os.path.join('..','data','df_amp_recommended.zip'))\n",
    "df_amp_recommended['month'] = df_amp_recommended['month'].astype('datetime64[ns]')\n",
    "df_amp_recommended.head(3)"
   ]
  },
  {
   "cell_type": "code",
   "execution_count": null,
   "metadata": {},
   "outputs": [],
   "source": [
    "df_amp_recommended.groupby(\"month\")['total_items'].sum().plot(kind='line', title=\"Total items where AMP recommended by NHS dm+d\")\n",
    "plt.ylim(0, )"
   ]
  },
  {
   "cell_type": "code",
   "execution_count": null,
   "metadata": {},
   "outputs": [],
   "source": [
    "df_generic = df_amp_recommended.loc[df_amp_recommended[\"bnf_code\"].str.contains('AA')]\n",
    "df_generic.head()"
   ]
  },
  {
   "cell_type": "code",
   "execution_count": null,
   "metadata": {},
   "outputs": [],
   "source": [
    "df_generic = df_amp_recommended.loc[df_amp_recommended[\"bnf_code\"].str.contains('AA\\w{4}$')]\n",
    "df_generic.head(10)"
   ]
  },
  {
   "cell_type": "code",
   "execution_count": null,
   "metadata": {},
   "outputs": [],
   "source": [
    "#checking here to see if this worked\n",
    "df_generic.bnf_code.unique()"
   ]
  },
  {
   "cell_type": "code",
   "execution_count": null,
   "metadata": {},
   "outputs": [],
   "source": [
    "df_generic.groupby(\"month\")['total_items'].sum().plot(kind='line', title=\"Total items where AMP recommended by NHS dm+d but prescribed generically \\n in breach of guidance\")\n",
    "plt.ylim(0, )"
   ]
  },
  {
   "cell_type": "code",
   "execution_count": null,
   "metadata": {},
   "outputs": [],
   "source": [
    "df_generic.groupby(['bnf_code', 'bnf_name']).sum().reset_index().sort_values(by = 'total_items', ascending = False).head(25)"
   ]
  },
  {
   "cell_type": "code",
   "execution_count": null,
   "metadata": {},
   "outputs": [],
   "source": [
    "df_generic_ccg = df_generic.groupby(['month', 'pct']).sum().reset_index()\n",
    "df_generic_ccg .head(3)"
   ]
  },
  {
   "cell_type": "code",
   "execution_count": null,
   "metadata": {},
   "outputs": [],
   "source": [
    "df_amp_recommended_ccg = df_amp_recommended.groupby(['month', 'pct']).sum().reset_index()\n",
    "df_amp_recommended_ccg.head(3)"
   ]
  },
  {
   "cell_type": "code",
   "execution_count": null,
   "metadata": {},
   "outputs": [],
   "source": [
    "df_measure = df_generic_ccg.copy()\n",
    "\n",
    "df_measure[\"measure_value\"] = 100*(df_generic_ccg.total_items / df_amp_recommended_ccg.total_items).fillna(0)\n",
    "df_measure.head()"
   ]
  },
  {
   "cell_type": "code",
   "execution_count": null,
   "metadata": {},
   "outputs": [],
   "source": [
    "charts.deciles_chart(\n",
    "    df_measure,\n",
    "    period_column='month',\n",
    "    column='measure_value',\n",
    "    title=\" CCG variation - Generic prescriptions \\n in breach of dm+d brand prescribing recommendations\",\n",
    "    ylabel=\"\",\n",
    "    show_outer_percentiles=True,\n",
    "    show_legend=True\n",
    ") \n",
    "\n",
    "#add in example CCG (Devon)\n",
    "df_subject = df_measure.loc[df_measure['pct'] == '15N']\n",
    "plt.plot(df_subject['month'], df_subject['measure_value'], 'r--')\n",
    "\n",
    "plt.ylim(0, 100)\n",
    "plt.show()"
   ]
  },
  {
   "cell_type": "code",
   "execution_count": null,
   "metadata": {},
   "outputs": [],
   "source": [
    "#create choropeth map \n",
    "plt.figure(figsize=(12, 7))\n",
    "last_year_df_measure = df_measure.loc[(df_measure['month'] >= '2020-04-01') & (df_measure['month'] <= '2020-12-01')]\n",
    "plt = maps.ccg_map(last_year_df_measure, title=\"Generic prescription in breach of brand prescribing recommendations  \\n CCG \", column='measure_value', separate_london=False)\n",
    "plt.show()"
   ]
  },
  {
   "cell_type": "code",
   "execution_count": null,
   "metadata": {},
   "outputs": [],
   "source": []
  }
 ],
 "metadata": {
  "jupytext": {
   "cell_metadata_filter": "all",
   "notebook_metadata_filter": "all,-language_info",
   "text_representation": {
    "extension": ".py",
    "format_name": "light",
    "format_version": "1.5",
    "jupytext_version": "1.3.3"
   }
  },
  "kernelspec": {
   "display_name": "Python 3",
   "language": "python",
   "name": "python3"
  },
  "language_info": {
   "codemirror_mode": {
    "name": "ipython",
    "version": 3
   },
   "file_extension": ".py",
   "mimetype": "text/x-python",
   "name": "python",
   "nbconvert_exporter": "python",
   "pygments_lexer": "ipython3",
   "version": "3.8.1"
  }
 },
 "nbformat": 4,
 "nbformat_minor": 4
}
